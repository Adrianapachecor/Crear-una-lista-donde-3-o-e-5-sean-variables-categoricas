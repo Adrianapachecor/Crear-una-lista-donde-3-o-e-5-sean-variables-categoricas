{
  "nbformat": 4,
  "nbformat_minor": 0,
  "metadata": {
    "colab": {
      "name": "FizzBuzz.ipynb",
      "provenance": []
    },
    "kernelspec": {
      "name": "python3",
      "display_name": "Python 3"
    },
    "language_info": {
      "name": "python"
    }
  },
  "cells": [
    {
      "cell_type": "code",
      "execution_count": null,
      "metadata": {
        "colab": {
          "base_uri": "https://localhost:8080/"
        },
        "id": "F1mZ0RTj7Jtl",
        "outputId": "fee7a162-6dcb-42e0-8e27-84ba4280da1f"
      },
      "outputs": [
        {
          "output_type": "stream",
          "name": "stdout",
          "text": [
            "1\n",
            "2\n",
            "Fizz\n",
            "4\n",
            "Buzz\n",
            "Fizz\n",
            "7\n",
            "8\n",
            "Fizz\n",
            "Buzz\n",
            "11\n",
            "Fizz\n",
            "13\n",
            "14\n",
            "FizzBuzz\n",
            "16\n",
            "17\n",
            "Fizz\n",
            "19\n",
            "Buzz\n"
          ]
        }
      ],
      "source": [
        "#crear una lista con multiplos para 3 y 5\n",
        "multiples_3=[]\n",
        "multiples_5=[]\n",
        "for i in range(1, 21):\n",
        "  if i % 3 == 0 and i % 5 == 0:\n",
        "    print('FizzBuzz')\n",
        "  elif i % 3 == 0:\n",
        "    print('Fizz')\n",
        "  elif i % 5 == 0:\n",
        "    print('Buzz')\n",
        "  else:\n",
        "    print(i)\n"
      ]
    },
    {
      "cell_type": "code",
      "source": [
        "from typing import List\n",
        "#crear una lista con multiplos para 3 y 5\n",
        "def resultado():\n",
        "  for i in range(len(list)):\n",
        "    if i % 3 == 0 and i % 5 == 0:\n",
        "      resultado[i]=('FizzBuzz')\n",
        "    elif i % 3 == 0:\n",
        "      resultado[i]=('Fizz')\n",
        "    elif i % 5 == 0:\n",
        "      resultado[i]('Buzz')\n",
        "    else:\n",
        "      resultado[i]=('error')\n",
        "print=input(i)\n",
        "resultado()\n",
        "     \n",
        "\n",
        "\n",
        "\n"
      ],
      "metadata": {
        "id": "TcAw2ggHoQ8E"
      },
      "execution_count": null,
      "outputs": []
    },
    {
      "cell_type": "code",
      "source": [
        "def es_primo(numero):\n",
        "  contador=0\n",
        "  "
      ],
      "metadata": {
        "id": "Fg_xHmTmE5Id"
      },
      "execution_count": null,
      "outputs": []
    }
  ]
}